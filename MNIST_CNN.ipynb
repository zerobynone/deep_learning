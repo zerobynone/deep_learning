{
 "cells": [
  {
   "cell_type": "code",
   "execution_count": 72,
   "id": "52ffa306",
   "metadata": {},
   "outputs": [
    {
     "name": "stdout",
     "output_type": "stream",
     "text": [
      "False\n",
      "using cpu device\n"
     ]
    }
   ],
   "source": [
    "import torch\n",
    "import torch.nn as nn\n",
    "import torch.nn.functional as F\n",
    "import torch.optim as optim\n",
    "from torchvision import datasets,transforms\n",
    "from torch.autograd import Variable\n",
    "import matplotlib.pyplot as plt\n",
    "import numpy as np\n",
    "%matplotlib inline\n",
    "is_cuda=False\n",
    "if torch.cuda.is_available():\n",
    "    is_cuda = True\n",
    "print(is_cuda)\n",
    "device = \"cuda\" if torch.cuda.is_available() else \"cpu\"\n",
    "print(\"using {} device\".format(device))"
   ]
  },
  {
   "cell_type": "markdown",
   "id": "b138de13",
   "metadata": {},
   "source": [
    "# Dataset"
   ]
  },
  {
   "cell_type": "code",
   "execution_count": 73,
   "id": "7102ed8e",
   "metadata": {
    "scrolled": true
   },
   "outputs": [],
   "source": [
    "transformation = transforms.Compose([transforms.ToTensor()])\n",
    "\n",
    "train_dataset = datasets.MNIST('data/',train=True,transform=transformation,download=True)\n",
    "test_dataset = datasets.MNIST('data/',train=False,transform=transformation,download=True)\n",
    "\n",
    "train_loader = torch.utils.data.DataLoader(train_dataset,batch_size=128,shuffle=True)\n",
    "test_loader = torch.utils.data.DataLoader(test_dataset,batch_size=128,shuffle=True)"
   ]
  },
  {
   "cell_type": "code",
   "execution_count": 74,
   "id": "eaf83d09",
   "metadata": {},
   "outputs": [
    {
     "data": {
      "text/plain": [
       "469"
      ]
     },
     "execution_count": 74,
     "metadata": {},
     "output_type": "execute_result"
    }
   ],
   "source": [
    "len(train_loader)"
   ]
  },
  {
   "cell_type": "code",
   "execution_count": 75,
   "id": "f3abbff2",
   "metadata": {},
   "outputs": [
    {
     "name": "stdout",
     "output_type": "stream",
     "text": [
      "torch.Size([128, 1, 28, 28])\n"
     ]
    }
   ],
   "source": [
    "dataiter = iter(train_loader)\n",
    "images, labels = next(dataiter)\n",
    "print(images.shape)\n",
    "## images[0]"
   ]
  },
  {
   "cell_type": "code",
   "execution_count": 76,
   "id": "3aa8107a",
   "metadata": {},
   "outputs": [
    {
     "data": {
      "image/png": "[encoded data removed]",
      "text/plain": [
       "<Figure size 432x288 with 1 Axes>"
      ]
     },
     "metadata": {
      "needs_background": "light"
     },
     "output_type": "display_data"
    }
   ],
   "source": [
    "digit = images[0][0]\n",
    "plt.imshow(digit, cmap = 'gray')\n",
    "plt.show()"
   ]
  },
  {
   "cell_type": "markdown",
   "id": "d7f9569b",
   "metadata": {},
   "source": [
    "# Model"
   ]
  },
  {
   "cell_type": "code",
   "execution_count": 77,
   "id": "47bb844b",
   "metadata": {},
   "outputs": [],
   "source": [
    "class Net(nn.Module):\n",
    "    def __init__(self):\n",
    "        super().__init__()\n",
    "        self.conv1 = nn.Conv2d(1,32, kernel_size = 3)\n",
    "        self.conv2 = nn.Conv2d(32,64, kernel_size = 3)\n",
    "        self.conv3 = nn.Conv2d(64,64, kernel_size = 3)\n",
    "        self.flatten = nn.Flatten()\n",
    "        self.fc1 = nn.Linear(576,64)\n",
    "        self.fc2 = nn.Linear(64,10)\n",
    "    def forward(self,x):\n",
    "        x = self.conv1(x)\n",
    "        x = F.relu(x)\n",
    "        x = F.max_pool2d(x,2)\n",
    "        x = self.conv2(x)\n",
    "        x = F.relu(x)\n",
    "        x = F.max_pool2d(x,2)\n",
    "        x = self.conv3(x)\n",
    "        x = F.relu(x)\n",
    "        x = self.flatten(x)\n",
    "        x = self.fc1(x)\n",
    "        x = F.relu(x)\n",
    "        x = self.fc2(x)\n",
    "        return F.log_softmax(x)"
   ]
  },
  {
   "cell_type": "code",
   "execution_count": 78,
   "id": "c48ce98d",
   "metadata": {},
   "outputs": [],
   "source": [
    "model = Net()\n",
    "if is_cuda:\n",
    "    model.cuda()\n",
    "loss_fn = nn.CrossEntropyLoss()\n",
    "optimizer = optim.SGD(model.parameters(), lr = 0.01, momentum = 0.5)"
   ]
  },
  {
   "cell_type": "code",
   "execution_count": 79,
   "id": "3c734c56",
   "metadata": {
    "scrolled": false
   },
   "outputs": [
    {
     "name": "stdout",
     "output_type": "stream",
     "text": [
      "<bound method Net.forward of Net(\n",
      "  (conv1): Conv2d(1, 32, kernel_size=(3, 3), stride=(1, 1))\n",
      "  (conv2): Conv2d(32, 64, kernel_size=(3, 3), stride=(1, 1))\n",
      "  (conv3): Conv2d(64, 64, kernel_size=(3, 3), stride=(1, 1))\n",
      "  (flatten): Flatten(start_dim=1, end_dim=-1)\n",
      "  (fc1): Linear(in_features=576, out_features=64, bias=True)\n",
      "  (fc2): Linear(in_features=64, out_features=10, bias=True)\n",
      ")>\n"
     ]
    }
   ],
   "source": [
    "print(model.forward)"
   ]
  },
  {
   "cell_type": "markdown",
   "id": "a97b76b7",
   "metadata": {},
   "source": [
    "# Define Train & Inference "
   ]
  },
  {
   "cell_type": "code",
   "execution_count": 80,
   "id": "4fd4851b",
   "metadata": {},
   "outputs": [],
   "source": [
    "# Training\n",
    "def train(dataloader, model, loss_fn, optimizer):\n",
    "    size = len(dataloader.dataset)\n",
    "    for batch, (X,y) in enumerate(dataloader):\n",
    "        X, y = X.to(device), y.to(device)\n",
    "        # forward\n",
    "        pred = model(X)\n",
    "        loss = loss_fn(pred,y)\n",
    "        \n",
    "        # backward \n",
    "        optimizer.zero_grad()\n",
    "        loss.backward()\n",
    "        \n",
    "        # update weights\n",
    "        optimizer.step()\n",
    "        \n",
    "        if batch %100 == 0:\n",
    "            loss, current = loss.item(), batch*len(X)\n",
    "            print(f\"loss: {loss:>7f}[{current:>5d}/{size:5d}]\")"
   ]
  },
  {
   "cell_type": "code",
   "execution_count": 81,
   "id": "3c08599e",
   "metadata": {},
   "outputs": [],
   "source": [
    "# Testing\n",
    "def test(dataloader, model, loss_fn):\n",
    "    size = len(dataloader.dataset)\n",
    "    num_batches = len(dataloader)\n",
    "    model.eval()\n",
    "    test_loss, correct = 0, 0\n",
    "    with torch.no_grad():           # data 추적 X (inference)\n",
    "        for X, y in dataloader:\n",
    "            X, y = X.to(device), y.to(device)\n",
    "            pred = model(X)\n",
    "            test_loss += loss_fn(pred,y).item()\n",
    "            correct += (pred.argmax(1)==y).type(torch.float).sum().item()\n",
    "    test_loss /= num_batches\n",
    "    correct /= size\n",
    "    print(f\"test Error: \\n Accuracy: {(100*correct):>0.1f}%, Avg loss: {test_loss:>8f} \\n\")"
   ]
  },
  {
   "cell_type": "markdown",
   "id": "7da60d57",
   "metadata": {},
   "source": [
    "# Train"
   ]
  },
  {
   "cell_type": "code",
   "execution_count": 82,
   "id": "7cd976a6",
   "metadata": {
    "scrolled": true
   },
   "outputs": [
    {
     "name": "stdout",
     "output_type": "stream",
     "text": [
      "Epochs 1 \n",
      "\n",
      "loss: 2.301043[    0/60000]\n"
     ]
    },
    {
     "name": "stderr",
     "output_type": "stream",
     "text": [
      "<ipython-input-77-ff1da966f3e6>:23: UserWarning: Implicit dimension choice for log_softmax has been deprecated. Change the call to include dim=X as an argument.\n",
      "  return F.log_softmax(x)\n"
     ]
    },
    {
     "name": "stdout",
     "output_type": "stream",
     "text": [
      "loss: 2.278916[12800/60000]\n",
      "loss: 2.246586[25600/60000]\n",
      "loss: 1.737397[38400/60000]\n",
      "loss: 0.635253[51200/60000]\n",
      "test Error: \n",
      " Accuracy: 84.3%, Avg loss: 0.497084 \n",
      "\n",
      "Epochs 2 \n",
      "\n",
      "loss: 0.577704[    0/60000]\n",
      "loss: 0.303544[12800/60000]\n",
      "loss: 0.433257[25600/60000]\n",
      "loss: 0.288564[38400/60000]\n",
      "loss: 0.210045[51200/60000]\n",
      "test Error: \n",
      " Accuracy: 90.3%, Avg loss: 0.302502 \n",
      "\n",
      "Epochs 3 \n",
      "\n",
      "loss: 0.310425[    0/60000]\n",
      "loss: 0.352538[12800/60000]\n",
      "loss: 0.234307[25600/60000]\n",
      "loss: 0.211240[38400/60000]\n",
      "loss: 0.216073[51200/60000]\n",
      "test Error: \n",
      " Accuracy: 94.5%, Avg loss: 0.183339 \n",
      "\n",
      "Epochs 4 \n",
      "\n",
      "loss: 0.207256[    0/60000]\n",
      "loss: 0.212312[12800/60000]\n",
      "loss: 0.141016[25600/60000]\n",
      "loss: 0.277284[38400/60000]\n",
      "loss: 0.278368[51200/60000]\n",
      "test Error: \n",
      " Accuracy: 95.7%, Avg loss: 0.139161 \n",
      "\n",
      "Epochs 5 \n",
      "\n",
      "loss: 0.110113[    0/60000]\n",
      "loss: 0.128667[12800/60000]\n",
      "loss: 0.175172[25600/60000]\n",
      "loss: 0.215797[38400/60000]\n",
      "loss: 0.069492[51200/60000]\n",
      "test Error: \n",
      " Accuracy: 96.8%, Avg loss: 0.107269 \n",
      "\n",
      "Done!\n"
     ]
    }
   ],
   "source": [
    "epochs = 5\n",
    "for t in range(epochs):\n",
    "    print(f\"Epochs {t+1} \\n\")\n",
    "    train(train_loader, model, loss_fn, optimizer)\n",
    "    test(test_loader, model, loss_fn)\n",
    "print(\"Done!\")"
   ]
  }
 ],
 "metadata": {
  "kernelspec": {
   "display_name": "Python 3",
   "language": "python",
   "name": "python3"
  },
  "language_info": {
   "codemirror_mode": {
    "name": "ipython",
    "version": 3
   },
   "file_extension": ".py",
   "mimetype": "text/x-python",
   "name": "python",
   "nbconvert_exporter": "python",
   "pygments_lexer": "ipython3",
   "version": "3.8.8"
  }
 },
 "nbformat": 4,
 "nbformat_minor": 5
}
