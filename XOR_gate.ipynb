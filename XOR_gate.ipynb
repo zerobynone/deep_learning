{
 "cells": [
  {
   "cell_type": "code",
   "execution_count": 26,
   "id": "8771b6c7",
   "metadata": {},
   "outputs": [],
   "source": [
    "import numpy as np\n",
    "def sigmoid(x):\n",
    "    return 1/(1+np.exp(-x))\n",
    "def sigmoid_derivative(x):\n",
    "    return x*(1-x)"
   ]
  },
  {
   "cell_type": "code",
   "execution_count": 27,
   "id": "02c3fee5",
   "metadata": {},
   "outputs": [
    {
     "name": "stdout",
     "output_type": "stream",
     "text": [
      "[[0 0]\n",
      " [0 1]\n",
      " [1 0]\n",
      " [1 1]]\n",
      "[[0]\n",
      " [1]\n",
      " [1]\n",
      " [0]]\n"
     ]
    }
   ],
   "source": [
    "# datasets\n",
    "inputs = np.array([[0,0],[0,1],[1,0],[1,1]])   # 4X2 input\n",
    "expected_output = np.array([[0],[1],[1],[0]])  # 4X1 output\n",
    "print(inputs)\n",
    "print(expected_output)"
   ]
  },
  {
   "cell_type": "code",
   "execution_count": 28,
   "id": "172bb803",
   "metadata": {},
   "outputs": [],
   "source": [
    "epochs = 100000\n",
    "lr = 0.1\n",
    "inputLayerNeurons, hiddenLayerNeurons, outputLayerNeurons = 2,2,1"
   ]
  },
  {
   "cell_type": "code",
   "execution_count": 29,
   "id": "f075e3c1",
   "metadata": {},
   "outputs": [
    {
     "name": "stdout",
     "output_type": "stream",
     "text": [
      "Initial hidden Weights: \n",
      "\n",
      "[[0.11849992 0.72043016]\n",
      " [0.19402817 0.68169964]]\n",
      "Initial output Weights: \n",
      "\n",
      "[[0.10941586]\n",
      " [0.2099447 ]]\n"
     ]
    }
   ],
   "source": [
    "# Random weights and bias initialization\n",
    "hidden_weights = np.random.uniform(size=(inputLayerNeurons,hiddenLayerNeurons))\n",
    "output_weights = np.random.uniform(size=(hiddenLayerNeurons,outputLayerNeurons))\n",
    "\n",
    "print(\"Initial hidden Weights: \\n\")\n",
    "print(hidden_weights)                   # 2X2 \n",
    "print(\"Initial output Weights: \\n\")\n",
    "print(output_weights)                   #2X1"
   ]
  },
  {
   "cell_type": "code",
   "execution_count": 30,
   "id": "68c704fd",
   "metadata": {},
   "outputs": [
    {
     "name": "stdout",
     "output_type": "stream",
     "text": [
      "Final hidden weights: \n",
      "\n",
      "[[0.926699   7.72731331]\n",
      " [0.92669948 7.72758174]]\n",
      "Final output weights: \n",
      "\n",
      "[[-33.21473443]\n",
      " [ 26.41726415]]\n",
      "expected output after 10000 epochs \n",
      "\n",
      "[[0.03233502]\n",
      " [0.93152943]\n",
      " [0.93152943]\n",
      " [0.09131112]]\n"
     ]
    }
   ],
   "source": [
    "# Training algorithm\n",
    "for i in range(epochs):\n",
    "    # Forward Propagation\n",
    "    hidden_layer_activation = np.dot(inputs,hidden_weights) # 4X2\n",
    "    hidden_layer_output = sigmoid(hidden_layer_activation)  # 4X2\n",
    "    \n",
    "    output_layer_activation = np.dot(hidden_layer_output,output_weights)  # 4X1\n",
    "    predicted_output = sigmoid(output_layer_activation)                   # 4X1\n",
    "    \n",
    "    # Back Propagation\n",
    "    error = expected_output - predicted_output                         # 4X1\n",
    "    d_predicted_output = error * sigmoid_derivative(predicted_output)  # 4X1\n",
    "    \n",
    "    error_hidden_layer = d_predicted_output.dot(output_weights.T)                 # 4X2\n",
    "    d_hidden_layer = error_hidden_layer * sigmoid_derivative(hidden_layer_output) # 4X2\n",
    "    \n",
    "    # Updating Weights and Biases\n",
    "    output_weights += hidden_layer_output.T.dot(d_predicted_output) * lr # 2X1\n",
    "    hidden_weights += inputs.T.dot(d_hidden_layer) * lr                  # 2X2\n",
    "    \n",
    "# print final weights\n",
    "print(\"Final hidden weights: \\n\")\n",
    "print(hidden_weights)\n",
    "\n",
    "print(\"Final output weights: \\n\")\n",
    "print(output_weights)\n",
    "\n",
    "x = np.dot(inputs, hidden_weights)\n",
    "x = sigmoid(x)\n",
    "x = np.dot(x,output_weights)\n",
    "final_output = sigmoid(x)\n",
    "\n",
    "print(\"expected output after 10000 epochs \\n\")\n",
    "print(final_output)"
   ]
  }
 ],
 "metadata": {
  "kernelspec": {
   "display_name": "Python 3",
   "language": "python",
   "name": "python3"
  },
  "language_info": {
   "codemirror_mode": {
    "name": "ipython",
    "version": 3
   },
   "file_extension": ".py",
   "mimetype": "text/x-python",
   "name": "python",
   "nbconvert_exporter": "python",
   "pygments_lexer": "ipython3",
   "version": "3.8.8"
  }
 },
 "nbformat": 4,
 "nbformat_minor": 5
}
